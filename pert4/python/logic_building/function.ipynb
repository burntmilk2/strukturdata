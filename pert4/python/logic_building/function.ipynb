{
 "cells": [
  {
   "cell_type": "markdown",
   "id": "bc4f7313",
   "metadata": {},
   "source": [
    "Perjumlahan Basic"
   ]
  },
  {
   "cell_type": "code",
   "execution_count": 1,
   "id": "0ed7e3c3",
   "metadata": {},
   "outputs": [
    {
     "name": "stdout",
     "output_type": "stream",
     "text": [
      "Hasil penjumlahan: 30.0\n"
     ]
    }
   ],
   "source": [
    "def tambah(a, b):\n",
    "    return a + b\n",
    "\n",
    "try:\n",
    "    angka1 = float(input(\"Masukkan angka pertama: \"))\n",
    "    angka2 = float(input(\"Masukkan angka kedua: \"))\n",
    "\n",
    "    hasil = tambah(angka1, angka2)\n",
    "    print(f\"Hasil penjumlahan: {hasil}\")\n",
    "except ValueError:\n",
    "    print(\"Input tidak valid. Harap masukkan angka.\")"
   ]
  },
  {
   "cell_type": "markdown",
   "id": "caa4a7dc",
   "metadata": {},
   "source": [
    "Kalkulator Function"
   ]
  },
  {
   "cell_type": "code",
   "execution_count": 2,
   "id": "64e2f4ac",
   "metadata": {},
   "outputs": [
    {
     "name": "stdout",
     "output_type": "stream",
     "text": [
      "Operasi:\n",
      "1. Penjumlahan\n",
      "2. Pengurangan\n",
      "3. Perkalian\n",
      "4. Pembagian\n",
      "Hasil pembagian: 10.0\n"
     ]
    }
   ],
   "source": [
    "# Function\n",
    "def tambah(a, b):\n",
    "    return a + b\n",
    "\n",
    "def kurang(a, b):\n",
    "    return a - b\n",
    "\n",
    "def kali(a, b):\n",
    "    return a * b\n",
    "\n",
    "def bagi(a, b):\n",
    "    if b != 0:\n",
    "        return a / b\n",
    "    else:\n",
    "        return \"Error: Pembagian dengan nol tidak diperbolehkan.\"\n",
    "\n",
    "# Input dari pengguna\n",
    "try:\n",
    "    angka1 = float(input(\"Masukkan angka pertama: \"))\n",
    "    angka2 = float(input(\"Masukkan angka kedua: \"))\n",
    "\n",
    "    print(\"Operasi:\")\n",
    "    print(\"1. Penjumlahan\")\n",
    "    print(\"2. Pengurangan\")\n",
    "    print(\"3. Perkalian\")\n",
    "    print(\"4. Pembagian\")\n",
    "\n",
    "    pilihan = input(\"Pilih operasi (1/2/3/4): \")\n",
    "\n",
    "    if pilihan == '1':\n",
    "        print(f\"Hasil penjumlahan: {tambah(angka1, angka2)}\")\n",
    "    elif pilihan == '2':\n",
    "        print(f\"Hasil pengurangan: {kurang(angka1, angka2)}\")\n",
    "    elif pilihan == '3':\n",
    "        print(f\"Hasil perkalian: {kali(angka1, angka2)}\")\n",
    "    elif pilihan == '4':\n",
    "        print(f\"Hasil pembagian: {bagi(angka1, angka2)}\")\n",
    "    else:\n",
    "        print(\"Pilihan tidak valid.\")\n",
    "\n",
    "except ValueError:\n",
    "    print(\"Input tidak valid. Harap masukkan angka.\")\n"
   ]
  }
 ],
 "metadata": {
  "kernelspec": {
   "display_name": "Python 3",
   "language": "python",
   "name": "python3"
  },
  "language_info": {
   "codemirror_mode": {
    "name": "ipython",
    "version": 3
   },
   "file_extension": ".py",
   "mimetype": "text/x-python",
   "name": "python",
   "nbconvert_exporter": "python",
   "pygments_lexer": "ipython3",
   "version": "3.10.12"
  }
 },
 "nbformat": 4,
 "nbformat_minor": 5
}
